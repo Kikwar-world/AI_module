{
 "cells": [
  {
   "cell_type": "code",
   "execution_count": 1,
   "id": "3f417037",
   "metadata": {},
   "outputs": [],
   "source": [
    "import speech_recognition as sr\n",
    "import pyttsx3 as ptt"
   ]
  },
  {
   "cell_type": "code",
   "execution_count": 6,
   "id": "1528205c",
   "metadata": {},
   "outputs": [
    {
     "name": "stdout",
     "output_type": "stream",
     "text": [
      "I'm listening\n"
     ]
    }
   ],
   "source": [
    "listener = sr.Recognizer()\n",
    "player = ptt.init()\n",
    "\n",
    "yes_values = [\"yes\", \"i'm listening\", \"off course\"]\n",
    "no_values = [\"no\", \"not\", \"can't\", \"don't\"]\n",
    "\n",
    "def listen():\n",
    "    with sr.Microphone() as input_device:\n",
    "        voice_content = listener.listen(input_device)\n",
    "        text_command = listener.recognize_google(voice_content)\n",
    "        print(text_command)\n",
    "    return(text_command)\n",
    "        \n",
    "        \n",
    "def speak(text):\n",
    "    player.say(text)\n",
    "    player.runAndWait()\n",
    "    \n",
    "#def run_voice_bot():\n",
    "    #command = listen()\n",
    "    \n",
    "speak(\"Hello, welcome to text to speech, Please can i have a little conversation with you?\")\n",
    "\n",
    "response=listen()\n",
    "\n",
    "if \"yes\" in response:\n",
    "    speak(\"Thank you very much! How was your day?\")\n",
    "    response=listen()\n",
    "elif \"no\" in response:\n",
    "    speak(\"Please, may i know why you don't want to have a conversation with me?\")\n",
    "    response=listen()\n",
    "else:\n",
    "    speak(\"Can you rephrase that please?\")\n",
    "    if \"yes\" in response:\n",
    "        response=listen()\n",
    "    elif \"no\" in response:\n",
    "        speak(\"Please, may i know why you don't want to have a conversation with me?\")\n",
    "        response=listen()\n",
    "    \n",
    "\n",
    "    \n"
   ]
  },
  {
   "cell_type": "code",
   "execution_count": null,
   "id": "01307dfc",
   "metadata": {},
   "outputs": [],
   "source": []
  },
  {
   "cell_type": "code",
   "execution_count": null,
   "id": "eb331550",
   "metadata": {},
   "outputs": [],
   "source": []
  }
 ],
 "metadata": {
  "kernelspec": {
   "display_name": "Python 3",
   "language": "python",
   "name": "python3"
  },
  "language_info": {
   "codemirror_mode": {
    "name": "ipython",
    "version": 3
   },
   "file_extension": ".py",
   "mimetype": "text/x-python",
   "name": "python",
   "nbconvert_exporter": "python",
   "pygments_lexer": "ipython3",
   "version": "3.8.8"
  }
 },
 "nbformat": 4,
 "nbformat_minor": 5
}
